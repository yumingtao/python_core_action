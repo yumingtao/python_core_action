{
 "cells": [
  {
   "cell_type": "code",
   "execution_count": 4,
   "metadata": {
    "collapsed": true,
    "pycharm": {
     "is_executing": false
    }
   },
   "outputs": [
    {
     "name": "stdout",
     "text": [
      "5\n",
      "edcba\n",
      "edcba\n"
     ],
     "output_type": "stream"
    }
   ],
   "source": [
    "from a_13.utils_1 import get_sum\n",
    "from a_13.class_utils_1 import *\n",
    "\n",
    "\n",
    "print(get_sum(1, 4))\n",
    "\n",
    "print(Encoder.encode(\"abcde\"))\n",
    "print(Decoder.decode(\"abcde\"))"
   ]
  }
 ],
 "metadata": {
  "kernelspec": {
   "display_name": "Python 3",
   "language": "python",
   "name": "python3"
  },
  "language_info": {
   "codemirror_mode": {
    "name": "ipython",
    "version": 2
   },
   "file_extension": ".py",
   "mimetype": "text/x-python",
   "name": "python",
   "nbconvert_exporter": "python",
   "pygments_lexer": "ipython2",
   "version": "2.7.6"
  },
  "pycharm": {
   "stem_cell": {
    "cell_type": "raw",
    "source": [],
    "metadata": {
     "collapsed": false
    }
   }
  }
 },
 "nbformat": 4,
 "nbformat_minor": 0
}