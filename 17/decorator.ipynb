{
 "cells": [
  {
   "cell_type": "code",
   "execution_count": 5,
   "metadata": {
    "collapsed": true,
    "pycharm": {
     "is_executing": false
    }
   },
   "outputs": [
    {
     "name": "stdout",
     "text": [
      "wrapper a decorator\n",
      "hello world.\n"
     ],
     "output_type": "stream"
    }
   ],
   "source": [
    "def my_decorator_1(func):\n",
    "    def wrapper():\n",
    "        print(\"wrapper a decorator\")\n",
    "        func()\n",
    "    \n",
    "    return wrapper\n",
    "\n",
    "def greet_1():\n",
    "    print(\"hello world.\")\n",
    "\n",
    "greet_11 = my_decorator_1(greet_1)\n",
    "greet_11()"
   ]
  },
  {
   "cell_type": "code",
   "execution_count": 6,
   "outputs": [
    {
     "name": "stdout",
     "text": [
      "wrapper a decorator\n",
      "hello world.\n"
     ],
     "output_type": "stream"
    }
   ],
   "source": [
    "def my_decorator_2(func):\n",
    "    def wrapper():\n",
    "        print(\"wrapper a decorator\")\n",
    "        func()\n",
    "    \n",
    "    return wrapper\n",
    "\n",
    "@my_decorator_2\n",
    "def greet_2():\n",
    "    print(\"hello world.\")\n",
    "\n",
    "greet_2()"
   ],
   "metadata": {
    "collapsed": false,
    "pycharm": {
     "name": "#%%\n",
     "is_executing": false
    }
   }
  },
  {
   "cell_type": "code",
   "execution_count": 7,
   "outputs": [
    {
     "name": "stdout",
     "text": [
      "wrapper a decorator\n",
      "hello world,  yumingtao\n"
     ],
     "output_type": "stream"
    }
   ],
   "source": [
    "def my_decorator_3(func):\n",
    "    def wrapper(message):\n",
    "        print(\"wrapper a decorator\")\n",
    "        func(message)\n",
    "    \n",
    "    return wrapper\n",
    "\n",
    "@my_decorator_3\n",
    "def greet_3(message):\n",
    "    print(\"hello world, \", message)\n",
    "\n",
    "greet_3(\"yumingtao\")\n",
    "\n"
   ],
   "metadata": {
    "collapsed": false,
    "pycharm": {
     "name": "#%%\n",
     "is_executing": false
    }
   }
  },
  {
   "cell_type": "code",
   "execution_count": 9,
   "outputs": [
    {
     "name": "stdout",
     "text": [
      "wrapper a decorator\n",
      "Yumingtao, hello world.\n",
      "wrapper a decorator\n",
      "hello, Tony\n"
     ],
     "output_type": "stream"
    }
   ],
   "source": [
    "# *args 和 **kwargs，接收任意数量和任意类型的参数\n",
    "# 使同一个装饰器可以应用于多个函数\n",
    "def my_decorator_4(func):\n",
    "    def wrapper(*args, **kwargs):\n",
    "        print(\"wrapper a decorator\")\n",
    "        func(*args, **kwargs)\n",
    "    \n",
    "    return wrapper\n",
    "\n",
    "@my_decorator_4\n",
    "def greet_4(name, message):\n",
    "    print(\"{}, {}\".format(name, message))\n",
    "    \n",
    "@my_decorator_4\n",
    "def greet_5(name):\n",
    "    print(\"hello, {}\".format(name))\n",
    "\n",
    "greet_4(\"Yumingtao\", \"hello world.\")\n",
    "greet_5(\"Tony\")\n",
    "\n"
   ],
   "metadata": {
    "collapsed": false,
    "pycharm": {
     "name": "#%%\n",
     "is_executing": false
    }
   }
  },
  {
   "cell_type": "code",
   "execution_count": 14,
   "outputs": [
    {
     "name": "stdout",
     "text": [
      "wrapper a decorator\n",
      "hello, Tony\n",
      "wrapper a decorator\n",
      "hello, Tony\n",
      "wrapper a decorator\n",
      "hello, Tony\n"
     ],
     "output_type": "stream"
    }
   ],
   "source": [
    "# 带自定义参数的装饰器\n",
    "def repeat(num):\n",
    "    def my_decorator(func):\n",
    "        def wrapper(*args, **kwargs):\n",
    "            for i in range(num):\n",
    "                print(\"wrapper a decorator\")\n",
    "                func(*args, **kwargs)\n",
    "        return wrapper\n",
    "    return my_decorator\n",
    "\n",
    "@repeat(3)\n",
    "def greet_6(name):\n",
    "    print(\"hello, {}\".format(name))\n",
    "    \n",
    "greet_6(\"Tony\")"
   ],
   "metadata": {
    "collapsed": false,
    "pycharm": {
     "name": "#%%\n",
     "is_executing": false
    }
   }
  },
  {
   "cell_type": "code",
   "execution_count": 13,
   "outputs": [
    {
     "name": "stdout",
     "text": [
      "Help on function wrapper in module __main__:\n",
      "\n",
      "wrapper(*args, **kwargs)\n",
      "\n"
     ],
     "output_type": "stream"
    }
   ],
   "source": [
    "# greet_6被装饰后，元信息改变了\n",
    "greet_6.__name__\n",
    "help(greet_6)"
   ],
   "metadata": {
    "collapsed": false,
    "pycharm": {
     "name": "#%%\n",
     "is_executing": false
    }
   }
  },
  {
   "cell_type": "code",
   "execution_count": 15,
   "outputs": [
    {
     "name": "stdout",
     "text": [
      "Help on function greet_7 in module __main__:\n",
      "\n",
      "greet_7(name, message)\n",
      "\n"
     ],
     "output_type": "stream"
    }
   ],
   "source": [
    "# 通过@functools.wrap保留原函数的元信息\n",
    "import functools\n",
    "def my_decorator_7(func):\n",
    "    @functools.wraps(func)\n",
    "    def wrapper(*args, **kwargs):\n",
    "        print(\"wrapper a decorator\")\n",
    "        func(*args, **kwargs)\n",
    "    \n",
    "    return wrapper\n",
    "\n",
    "@my_decorator_7\n",
    "def greet_7(name, message):\n",
    "    print(\"{}, {}\".format(name, message))\n",
    "    \n",
    "    \n",
    "greet_7.__name__\n",
    "help(greet_7)\n"
   ],
   "metadata": {
    "collapsed": false,
    "pycharm": {
     "name": "#%%\n",
     "is_executing": false
    }
   }
  },
  {
   "cell_type": "code",
   "execution_count": 16,
   "outputs": [
    {
     "name": "stdout",
     "text": [
      "number of calls is 1\n",
      "hello world.\n",
      "number of calls is 2\n",
      "hello world.\n"
     ],
     "output_type": "stream"
    }
   ],
   "source": [
    "# 类装饰器 __call__\n",
    "class Count:\n",
    "    def __init__(self, func):\n",
    "        self.func = func\n",
    "        self.num_calls = 0\n",
    "\n",
    "    def __call__(self, *args, **kwargs):\n",
    "        self.num_calls += 1\n",
    "        print(\"number of calls is {}\".format(self.num_calls))\n",
    "        return self.func(*args, **kwargs)\n",
    "\n",
    "\n",
    "@Count\n",
    "def greet_8():\n",
    "    print(\"hello world.\")\n",
    "    \n",
    "greet_8()\n",
    "greet_8()"
   ],
   "metadata": {
    "collapsed": false,
    "pycharm": {
     "name": "#%%\n",
     "is_executing": false
    }
   }
  },
  {
   "cell_type": "code",
   "execution_count": 1,
   "outputs": [
    {
     "name": "stdout",
     "text": [
      "execute decorator10\n",
      "execute decorator9\n",
      "execute decorator8\n",
      "hello, Tony\n"
     ],
     "output_type": "stream"
    }
   ],
   "source": [
    "# 嵌套\n",
    "import functools\n",
    "\n",
    "def my_decorator8(func):\n",
    "    @functools.wraps(func)\n",
    "    def wrapper(*args, **kwargs):\n",
    "        print(\"execute decorator8\")\n",
    "        func(*args, **kwargs)\n",
    "    return wrapper\n",
    "\n",
    "def my_decorator9(func):\n",
    "    @functools.wraps(func)\n",
    "    def wrapper(*args, **kwargs):\n",
    "        print(\"execute decorator9\")\n",
    "        func(*args, **kwargs)\n",
    "    return wrapper\n",
    "\n",
    "def my_decorator10(func):\n",
    "    @functools.wraps(func)\n",
    "    def wrapper(*args, **kwargs):\n",
    "        print(\"execute decorator10\")\n",
    "        func(*args, **kwargs)\n",
    "    return wrapper\n",
    "\n",
    "@my_decorator10\n",
    "@my_decorator9\n",
    "@my_decorator8\n",
    "def greet_9(name):\n",
    "    print(\"hello, {}\".format(name))\n",
    "    \n",
    "\n",
    "greet_9(\"Tony\")"
   ],
   "metadata": {
    "collapsed": false,
    "pycharm": {
     "name": "#%%\n",
     "is_executing": false
    }
   }
  }
 ],
 "metadata": {
  "kernelspec": {
   "display_name": "Python 3",
   "language": "python",
   "name": "python3"
  },
  "language_info": {
   "codemirror_mode": {
    "name": "ipython",
    "version": 2
   },
   "file_extension": ".py",
   "mimetype": "text/x-python",
   "name": "python",
   "nbconvert_exporter": "python",
   "pygments_lexer": "ipython2",
   "version": "2.7.6"
  },
  "pycharm": {
   "stem_cell": {
    "cell_type": "raw",
    "source": [],
    "metadata": {
     "collapsed": false
    }
   }
  }
 },
 "nbformat": 4,
 "nbformat_minor": 0
}