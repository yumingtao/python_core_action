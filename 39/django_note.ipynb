{
 "cells": [
  {
   "cell_type": "code",
   "execution_count": 2,
   "outputs": [
    {
     "name": "stdout",
     "text": [
      "安装django\n"
     ],
     "output_type": "stream"
    }
   ],
   "source": [
    "print(\"安装django\")\n"
   ],
   "metadata": {
    "collapsed": false,
    "pycharm": {
     "name": "#%%\n",
     "is_executing": false
    }
   }
  },
  {
   "cell_type": "markdown",
   "source": [
    "##### 参考  \n",
    "https://www.jetbrains.com/help/pycharm/creating-and-running-your-first-django-project.html#\n",
    "##### 安装django\n",
    "1. pip3 install Django 或 pip3 install Django -i https://pypi.tuna.tsinghua\n",
    ".edu.cn/simple\n",
    "2. django-admin --version\n",
    "\n",
    "##### pycharm创建django工程\n",
    "1. 按照创建向导创建工程，可以参考https://www.jetbrains.com/help/pycharm/creating-and-running-your-first-django-project.html#\n",
    "2. 工程创建完成后，可以直接运行工程，提示进入http://127.0.0.1:8000查看\n",
    "3. 首次运行工程会提示，完成更新，打开terminal，输入python manage.py migrate，完成应用更新\n",
    "4. （可选）创建管理账户python manage.py createsuperuser，输入admin，密码Admin@0401\n",
    "5. 经过步骤4，可以通过http://127.0.0.1:8000/admin/，输入用户名和密码进入管理页面"
   ],
   "metadata": {
    "collapsed": false
   }
  }
 ],
 "metadata": {
  "kernelspec": {
   "name": "python3",
   "language": "python",
   "display_name": "Python 3"
  },
  "language_info": {
   "codemirror_mode": {
    "name": "ipython",
    "version": 2
   },
   "file_extension": ".py",
   "mimetype": "text/x-python",
   "name": "python",
   "nbconvert_exporter": "python",
   "pygments_lexer": "ipython2",
   "version": "2.7.6"
  },
  "pycharm": {
   "stem_cell": {
    "cell_type": "raw",
    "source": [],
    "metadata": {
     "collapsed": false
    }
   }
  }
 },
 "nbformat": 4,
 "nbformat_minor": 0
}