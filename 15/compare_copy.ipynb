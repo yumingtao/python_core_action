{
 "cells": [
  {
   "cell_type": "code",
   "execution_count": 4,
   "metadata": {
    "collapsed": true,
    "pycharm": {
     "is_executing": false
    }
   },
   "outputs": [
    {
     "name": "stdout",
     "output_type": "stream",
     "text": [
      "l1: [1, 2, 3]\n",
      "l2: [1, 2, 3]\n",
      "l1==l2 True\n",
      "l1 is l2 False\n",
      "l1: [1, 2, 3]\n",
      "l2: [1, 2, 3, 4]\n",
      "l1==l2 False\n"
     ]
    }
   ],
   "source": [
    "# is 比较对象之间的身份标识，它们是否指向同一个地址\n",
    "# \n",
    "l1 = [1, 2, 3]\n",
    "l2 = list(l1)\n",
    "\n",
    "print(\"l1:\", l1)\n",
    "print(\"l2:\", l2)\n",
    "print(\"l1==l2\", l1 == l2) #比较值\n",
    "print(\"l1 is l2\", l1 is l2) #比较地址\n",
    "\n",
    "l2.append(4)\n",
    "print(\"l1:\", l1)\n",
    "print(\"l2:\", l2)\n",
    "print(\"l1==l2\", l1 == l2)\n"
   ]
  },
  {
   "cell_type": "code",
   "execution_count": 7,
   "outputs": [
    {
     "name": "stdout",
     "text": [
      "a==b: True\n",
      "id(a): 4342571056\n",
      "id(b): 4342571056\n",
      "a is b: True\n",
      "c==d: True\n",
      "id(c): 4442786544\n",
      "id(d): 4442784656\n",
      "c is d: False\n"
     ],
     "output_type": "stream"
    }
   ],
   "source": [
    "# 身份标识通过id(object)获取\n",
    "a = 10 \n",
    "b = 10\n",
    "print(\"a==b:\", a==b)\n",
    "print(\"id(a):\", id(a))\n",
    "print(\"id(b):\", id(b))\n",
    "# 仅限于 -5 ～ 256\n",
    "print(\"a is b:\", a is b)\n",
    "\n",
    "# 出于对性能优化的考虑，Python 内部会对 -5 到 256 的整型维持一个数组，\n",
    "# 起到一个缓存的作用。这样，每次你试图创建一个 -5 到 256 范围内的整型数字时，\n",
    "# Python 都会从这个数组中返回相对应的引用，而不是重新开辟一块新的内存空间\n",
    "c = 257\n",
    "d = 257\n",
    "print(\"c==d:\", c==d)\n",
    "print(\"id(c):\", id(c))\n",
    "print(\"id(d):\", id(d))\n",
    "# 仅限于 -5 ～ 256\n",
    "print(\"c is d:\", c is d)\n",
    "\n",
    "# is 效率优于 ==，\n",
    "# 因为is不能被重载，所以不需要去查找，程序中是否有其它地方重载了is\n",
    "# == 大部分数据类型都会重载"
   ],
   "metadata": {
    "collapsed": false,
    "pycharm": {
     "name": "#%%\n",
     "is_executing": false
    }
   }
  },
  {
   "cell_type": "code",
   "execution_count": 8,
   "outputs": [
    {
     "name": "stdout",
     "text": [
      "t1: (1, 2, [3, 4])\n",
      "t2: (1, 2, [3, 4])\n",
      "t1==t2 True\n",
      "t1: (1, 2, [3, 4, 5])\n",
      "t2: (1, 2, [3, 4])\n",
      "t1==t2 False\n"
     ],
     "output_type": "stream"
    }
   ],
   "source": [
    "t1 = (1, 2, [3, 4])\n",
    "t2 = (1, 2, [3, 4])\n",
    "\n",
    "print(\"t1:\", t1)\n",
    "print(\"t2:\", t2)\n",
    "print(\"t1==t2\", t1 == t2)\n",
    "\n",
    "t1[-1].append(5)\n",
    "\n",
    "print(\"t1:\", t1)\n",
    "print(\"t2:\", t2)\n",
    "print(\"t1==t2\", t1 == t2)"
   ],
   "metadata": {
    "collapsed": false,
    "pycharm": {
     "name": "#%%\n",
     "is_executing": false
    }
   }
  },
  {
   "cell_type": "code",
   "execution_count": 10,
   "outputs": [
    {
     "name": "stdout",
     "text": [
      "l3: [1, 2, 3]\n",
      "l4: [1, 2, 3]\n",
      "l3 == l4: True\n",
      "l5: [1, 2, 3]\n",
      "l6: [1, 2, 3]\n",
      "l5 == l6: True\n"
     ],
     "output_type": "stream"
    }
   ],
   "source": [
    "# list 浅拷贝\n",
    "l3 = [1, 2, 3]\n",
    "#l4 = list(l1)\n",
    "l4 = l3[:]\n",
    "\n",
    "print(\"l3:\", l3)\n",
    "print(\"l4:\", l4)\n",
    "print(\"l3 == l4:\", l3 == l4)\n",
    "\n",
    "\n",
    "import copy\n",
    "l5 = [1, 2, 3]\n",
    "l6 = copy.copy(l5)\n",
    "\n",
    "print(\"l5:\", l5)\n",
    "print(\"l6:\", l6)\n",
    "print(\"l5 == l6:\", l5 == l6)"
   ],
   "metadata": {
    "collapsed": false,
    "pycharm": {
     "name": "#%%\n",
     "is_executing": false
    }
   }
  },
  {
   "cell_type": "code",
   "execution_count": 11,
   "outputs": [
    {
     "name": "stdout",
     "text": [
      "t3 (1, 3)\n",
      "t4 (1, 3)\n",
      "t3==t4 True\n",
      "t3 is t4 True\n"
     ],
     "output_type": "stream"
    }
   ],
   "source": [
    "# tuple 浅拷贝，指向同一个元组\n",
    "t3 = (1, 3)\n",
    "#t4 = tuple(t3)\n",
    "t4 = t3[:]\n",
    "\n",
    "print(\"t3\", t3)\n",
    "print(\"t4\", t4)\n",
    "print(\"t3==t4\", t3==t4)\n",
    "print(\"t3 is t4\", t3 is t4)\n"
   ],
   "metadata": {
    "collapsed": false,
    "pycharm": {
     "name": "#%%\n",
     "is_executing": false
    }
   }
  },
  {
   "cell_type": "code",
   "execution_count": 16,
   "outputs": [
    {
     "name": "stdout",
     "text": [
      "l7 [[1, 2, 3], (30, 40), 100]\n",
      "l8 [[1, 2], (30, 40)]\n",
      "l9 [[1, 2, 3], (30, 40), 100]\n",
      "10 [[1, 2, 3], (30, 40)]\n",
      "l9 [[1, 2, 3], (30, 40, 50, 60), 100]\n",
      "10 [[1, 2, 3], (30, 40)]\n"
     ],
     "output_type": "stream"
    }
   ],
   "source": [
    "# 深copy，重新分配一块内存\n",
    "\n",
    "import copy\n",
    "l7 = [[1, 2], (30, 40)]\n",
    "l8 = copy.deepcopy(l7)\n",
    "l7.append(100)\n",
    "l7[0].append(3)\n",
    "\n",
    "print(\"l7\", l7)\n",
    "print(\"l8\", l8)\n",
    "\n",
    "# 浅copy的副作用， 可变的部分可以被修改\n",
    "l9 = [[1, 2], (30, 40)]\n",
    "l10 = copy.copy(l9)\n",
    "l9.append(100)\n",
    "l9[0].append(3)\n",
    "\n",
    "print(\"l9\", l9)\n",
    "print(\"10\", l10)\n",
    "\n",
    "l9[1] += (50,60)\n",
    "\n",
    "print(\"l9\", l9)\n",
    "print(\"10\", l10)\n",
    "\n",
    "# 深度拷贝函数 deepcopy 中会维护一个字典，记录已经拷贝的对象与其 ID。\n",
    "# 拷贝过程中，如果字典里已经存储了将要拷贝的对象，则会从字典直接返回"
   ],
   "metadata": {
    "collapsed": false,
    "pycharm": {
     "name": "#%%\n",
     "is_executing": false
    }
   }
  },
  {
   "cell_type": "code",
   "execution_count": 18,
   "outputs": [
    {
     "name": "stdout",
     "text": [
      "x is y False\n"
     ],
     "output_type": "stream"
    },
    {
     "traceback": [
      "\u001b[0;31m---------------------------------------------------------------------------\u001b[0m",
      "\u001b[0;31mRecursionError\u001b[0m                            Traceback (most recent call last)",
      "\u001b[0;32m<ipython-input-18-733a485e09b0>\u001b[0m in \u001b[0;36m<module>\u001b[0;34m\u001b[0m\n\u001b[1;32m      6\u001b[0m \u001b[0;34m\u001b[0m\u001b[0m\n\u001b[1;32m      7\u001b[0m \u001b[0mprint\u001b[0m\u001b[0;34m(\u001b[0m\u001b[0;34m\"x is y\"\u001b[0m\u001b[0;34m,\u001b[0m \u001b[0mx\u001b[0m \u001b[0;32mis\u001b[0m \u001b[0my\u001b[0m\u001b[0;34m)\u001b[0m\u001b[0;34m\u001b[0m\u001b[0;34m\u001b[0m\u001b[0m\n\u001b[0;32m----> 8\u001b[0;31m \u001b[0mprint\u001b[0m\u001b[0;34m(\u001b[0m\u001b[0;34m\"x==y\"\u001b[0m\u001b[0;34m,\u001b[0m \u001b[0mx\u001b[0m\u001b[0;34m==\u001b[0m\u001b[0my\u001b[0m\u001b[0;34m)\u001b[0m\u001b[0;34m\u001b[0m\u001b[0;34m\u001b[0m\u001b[0m\n\u001b[0m\u001b[1;32m      9\u001b[0m \u001b[0;34m\u001b[0m\u001b[0m\n",
      "\u001b[0;31mRecursionError\u001b[0m: maximum recursion depth exceeded in comparison"
     ],
     "ename": "RecursionError",
     "evalue": "maximum recursion depth exceeded in comparison",
     "output_type": "error"
    }
   ],
   "source": [
    "import copy\n",
    "x = [1]\n",
    "x.append(x)\n",
    "\n",
    "y = copy.deepcopy(x)\n",
    "\n",
    "print(\"x is y\", x is y)\n",
    "print(\"x==y\", x==y)\n",
    "\n",
    "# is 不会被重载，\n",
    "# ==会被重载，会递归调用比较，导致无限循环"
   ],
   "metadata": {
    "collapsed": false,
    "pycharm": {
     "name": "#%%\n",
     "is_executing": false
    }
   }
  }
 ],
 "metadata": {
  "kernelspec": {
   "display_name": "Python 3",
   "language": "python",
   "name": "python3"
  },
  "language_info": {
   "codemirror_mode": {
    "name": "ipython",
    "version": 3
   },
   "file_extension": ".py",
   "mimetype": "text/x-python",
   "name": "python",
   "nbconvert_exporter": "python",
   "pygments_lexer": "ipython3",
   "version": "3.7.6"
  },
  "pycharm": {
   "stem_cell": {
    "cell_type": "raw",
    "source": [],
    "metadata": {
     "collapsed": false
    }
   }
  }
 },
 "nbformat": 4,
 "nbformat_minor": 1
}