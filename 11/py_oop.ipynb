{
 "cells": [
  {
   "cell_type": "code",
   "execution_count": 2,
   "metadata": {
    "collapsed": true,
    "pycharm": {
     "is_executing": false
    }
   },
   "outputs": [
    {
     "name": "stdout",
     "text": [
      "init called...\n",
      "yumingtao\n",
      "Book1\n",
      "context length: 14\n",
      "This is book1.\n",
      "context length: 5\n",
      "This \n"
     ],
     "output_type": "stream"
    }
   ],
   "source": [
    "class Book:\n",
    "    def __init__(self, title, author, context):\n",
    "        print(\"init called...\")\n",
    "        self.title = title\n",
    "        self.author = author\n",
    "        self.__context = context # __开头是私有属性\n",
    "    \n",
    "    def get_context_length(self):\n",
    "        return len(self.__context)\n",
    "\n",
    "    def intercept_context(self, length):\n",
    "        self.__context = self.__context[:length]\n",
    "    \n",
    "    def get_context(self):\n",
    "        return self.__context\n",
    "\n",
    "book_1 = Book(\"Book1\", \"yumingtao\", \"This is book1.\")\n",
    "print(book_1.author)\n",
    "print(book_1.title)\n",
    "print(\"context length:\", book_1.get_context_length())\n",
    "print(book_1.get_context())\n",
    "book_1.intercept_context(5)\n",
    "print(\"context length:\", book_1.get_context_length())\n",
    "print(book_1.get_context())\n"
   ]
  },
  {
   "cell_type": "code",
   "execution_count": 7,
   "outputs": [
    {
     "name": "stdout",
     "text": [
      "init called...\n",
      "7\n",
      "Welcome! The context for this book is Hello Python..\n",
      "Welcome! The context for this book is {}.\n",
      "Welcome! The context for this book is Hello.\n"
     ],
     "output_type": "stream"
    }
   ],
   "source": [
    "class Book2:\n",
    "    WELCOME_STR = 'Welcome! The context for this book is {}.'\n",
    "    def __init__(self, title, author, context):\n",
    "        print(\"init called...\")\n",
    "        self.title = title\n",
    "        self.author = author\n",
    "        self.__context = context # __开头是私有属性\n",
    "    \n",
    "    #类方法,注意cls\n",
    "    @classmethod\n",
    "    def create_empty_book(cls, title, author):\n",
    "        return cls(title=title, author=author, context=\"nothing\")\n",
    "    # 成员方法\n",
    "    def get_context_length(self):\n",
    "        return len(self.__context)\n",
    "\n",
    "    def intercept_context(self, length):\n",
    "        self.__context = self.__context[:length]\n",
    "    \n",
    "    def get_context(self):\n",
    "        return self.__context\n",
    "    #静态方法\n",
    "    @staticmethod\n",
    "    def get_welcome(context):\n",
    "        return Book2.WELCOME_STR.format(context)\n",
    "empty_book = Book2.create_empty_book(\"Empty Book\", \"Tony\")\n",
    "print(empty_book.get_context_length())\n",
    "print(empty_book.get_welcome(\"Hello Python.\"))\n",
    "print(Book2.WELCOME_STR)\n",
    "print(Book2.get_welcome(\"Hello\"))"
   ],
   "metadata": {
    "collapsed": false,
    "pycharm": {
     "name": "#%%\n",
     "is_executing": false
    }
   }
  },
  {
   "cell_type": "code",
   "execution_count": 8,
   "outputs": [
    {
     "name": "stdout",
     "text": [
      "Dog init called ...\n",
      "Animal init called ...\n",
      "Bird init called ...\n",
      "Animal init called ...\n",
      "name: dog1\n",
      "color: Yellow\n",
      "legs_number: 4\n",
      "name: chicken\n",
      "color: Red\n",
      "flyable: False\n"
     ],
     "output_type": "stream"
    }
   ],
   "source": [
    "class Animal:\n",
    "    def __init__(self, name, color):\n",
    "        print(\"Animal init called ...\")\n",
    "        self.name = name\n",
    "        self.color = color\n",
    "    \n",
    "    def print_name(self):\n",
    "        print(\"name:\", self.name)\n",
    "    \n",
    "    def print_color(self):\n",
    "        print(\"color:\", self.color)\n",
    "\n",
    "class Dog(Animal):\n",
    "    def __init__(self, name, color, legs_number):\n",
    "        print(\"Dog init called ...\")\n",
    "        Animal.__init__(self, name, color)\n",
    "        self.legs_number = legs_number\n",
    "    \n",
    "    def print_legs_number(self):\n",
    "        print(\"legs_number:\", self.legs_number)\n",
    "    \n",
    "class Bird(Animal):\n",
    "    def __init__(self, name, color, flyable):\n",
    "        print(\"Bird init called ...\")\n",
    "        Animal.__init__(self, name, color)\n",
    "        self.flyable = flyable\n",
    "    \n",
    "    def print_flyable(self):\n",
    "        print(\"flyable:\", self.flyable)\n",
    "\n",
    "dog = Dog(\"dog1\", \"Yellow\", 4)\n",
    "chicken = Bird(\"chicken\", \"Red\", False)\n",
    "\n",
    "dog.print_name()\n",
    "dog.print_color()\n",
    "dog.print_legs_number()\n",
    "\n",
    "chicken.print_name()\n",
    "chicken.print_color()\n",
    "chicken.print_flyable()"
   ],
   "metadata": {
    "collapsed": false,
    "pycharm": {
     "name": "#%%\n",
     "is_executing": false
    }
   }
  },
  {
   "cell_type": "code",
   "execution_count": 10,
   "outputs": [
    {
     "name": "stdout",
     "text": [
      "title\n"
     ],
     "output_type": "stream"
    }
   ],
   "source": [
    "# 抽象类和抽象函数\n",
    "# ABCMeta是用来生成抽象基础类的元类\n",
    "from abc import ABCMeta, abstractmethod\n",
    "class AbstractCls(metaclass=ABCMeta):\n",
    "    @abstractmethod\n",
    "    def get_title(self):\n",
    "        pass\n",
    "    @abstractmethod\n",
    "    def set_title(self, title):\n",
    "        pass\n",
    "\n",
    "class ConcreteCls(AbstractCls):\n",
    "    def get_title(self):\n",
    "        return self.title\n",
    "    \n",
    "    def set_title(self, title):\n",
    "        self.title = title\n",
    "        \n",
    "concreteCls = ConcreteCls()\n",
    "concreteCls.set_title(\"title\")\n",
    "print(concreteCls.get_title())"
   ],
   "metadata": {
    "collapsed": false,
    "pycharm": {
     "name": "#%%\n",
     "is_executing": false
    }
   }
  },
  {
   "cell_type": "code",
   "execution_count": 17,
   "outputs": [
    {
     "name": "stdout",
     "text": [
      "F init called ...\n",
      "D init called ...\n",
      "B init called ...\n",
      "E init called ...\n",
      "C init called ...\n",
      "A init called ...\n",
      "A init end\n",
      "C init end\n",
      "E init end\n",
      "B init end\n",
      "D init end\n",
      "F init end\n"
     ],
     "output_type": "stream"
    }
   ],
   "source": [
    "# 在python3中，如果最顶层的两个类没有继承共同的类，\n",
    "# 那么查找顺序是，先从左找到头，再从右找到头\n",
    "# 如果继承了共同的类，也就是形成了菱形结构，那么查找顺序为，\n",
    "# 先从左找，只找到倒数第二层，然后从右找到头\n",
    "# F->D->B->E->C->A\n",
    "class A():\n",
    "    def __init__(self):\n",
    "        print(\"A init called ...\")\n",
    "        print(\"A init end\")\n",
    "\n",
    "class B(A):\n",
    "    def __init__(self):\n",
    "        print(\"B init called ...\")\n",
    "        super().__init__()\n",
    "        print(\"B init end\")\n",
    "\n",
    "class C(A):\n",
    "    def __init__(self):\n",
    "        print(\"C init called ...\")\n",
    "        super().__init__()\n",
    "        print(\"C init end\")\n",
    "        \n",
    "class D(B):\n",
    "    def __init__(self):\n",
    "        print(\"D init called ...\")\n",
    "        super().__init__()\n",
    "        print(\"D init end\")\n",
    "\n",
    "class E(C):\n",
    "    def __init__(self):\n",
    "        print(\"E init called ...\")\n",
    "        super().__init__()\n",
    "        print(\"E init end\")\n",
    "class F(D, E):\n",
    "    def __init__(self):\n",
    "        print(\"F init called ...\")\n",
    "        super().__init__()\n",
    "        print(\"F init end\")\n",
    "        \n",
    "d = F()"
   ],
   "metadata": {
    "collapsed": false,
    "pycharm": {
     "name": "#%%\n",
     "is_executing": false
    }
   }
  }
 ],
 "metadata": {
  "kernelspec": {
   "display_name": "Python 3",
   "language": "python",
   "name": "python3"
  },
  "language_info": {
   "codemirror_mode": {
    "name": "ipython",
    "version": 2
   },
   "file_extension": ".py",
   "mimetype": "text/x-python",
   "name": "python",
   "nbconvert_exporter": "python",
   "pygments_lexer": "ipython2",
   "version": "2.7.6"
  },
  "pycharm": {
   "stem_cell": {
    "cell_type": "raw",
    "source": [],
    "metadata": {
     "collapsed": false
    }
   }
  }
 },
 "nbformat": 4,
 "nbformat_minor": 0
}