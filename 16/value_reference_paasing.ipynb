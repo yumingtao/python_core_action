{
 "cells": [
  {
   "cell_type": "code",
   "execution_count": 1,
   "metadata": {
    "collapsed": true,
    "pycharm": {
     "is_executing": false
    }
   },
   "outputs": [
    {
     "traceback": [
      "\u001b[0;31m---------------------------------------------------------------------------\u001b[0m",
      "\u001b[0;31mNameError\u001b[0m                                 Traceback (most recent call last)",
      "\u001b[0;32m<ipython-input-1-b300fb8d4c73>\u001b[0m in \u001b[0;36m<module>\u001b[0;34m\u001b[0m\n\u001b[1;32m      3\u001b[0m \u001b[0;32mdel\u001b[0m \u001b[0ml1\u001b[0m\u001b[0;34m\u001b[0m\u001b[0;34m\u001b[0m\u001b[0m\n\u001b[1;32m      4\u001b[0m \u001b[0;34m\u001b[0m\u001b[0m\n\u001b[0;32m----> 5\u001b[0;31m \u001b[0mprint\u001b[0m\u001b[0;34m(\u001b[0m\u001b[0ml1\u001b[0m\u001b[0;34m)\u001b[0m\u001b[0;34m\u001b[0m\u001b[0;34m\u001b[0m\u001b[0m\n\u001b[0m\u001b[1;32m      6\u001b[0m \u001b[0;34m\u001b[0m\u001b[0m\n",
      "\u001b[0;31mNameError\u001b[0m: name 'l1' is not defined"
     ],
     "ename": "NameError",
     "evalue": "name 'l1' is not defined",
     "output_type": "error"
    }
   ],
   "source": [
    "# 删除了指向[1, 2, 3]的引用，但是[1, 2, 3]还在\n",
    "l1 = [1, 2, 3]\n",
    "del l1\n",
    "\n",
    "print(l1)\n"
   ]
  },
  {
   "cell_type": "code",
   "execution_count": 2,
   "outputs": [
    {
     "name": "stdout",
     "text": [
      "[1, 2, 3, 4]\n",
      "[1, 2, 3]\n"
     ],
     "output_type": "stream"
    }
   ],
   "source": [
    "# python里的所有数据类型都是对象，\n",
    "# 所以参数传递时，只是让新变量与原变量指向相同的对象\n",
    "\n",
    "\n",
    "def my_func3(l3):\n",
    "  l3.append(4)\n",
    "\n",
    "l2 = [1, 2, 3]\n",
    "my_func3(l2)\n",
    "print(l2)\n",
    "\n",
    "def my_func4(l5):\n",
    "  l5 = l5 + [4] #表示创建了一个“末尾加入元素 4“的新列表\n",
    "\n",
    "l4 = [1, 2, 3]\n",
    "my_func4(l4)\n",
    "print(l4)"
   ],
   "metadata": {
    "collapsed": false,
    "pycharm": {
     "name": "#%%\n",
     "is_executing": false
    }
   }
  },
  {
   "cell_type": "code",
   "execution_count": 3,
   "outputs": [
    {
     "name": "stdout",
     "text": [
      "l6==l7 True\n",
      "l7==l8 True\n"
     ],
     "output_type": "stream"
    }
   ],
   "source": [
    "l6 = [1, 2, 3]\n",
    "l7 = [1, 2, 3]\n",
    "l8 = l7\n",
    "\n",
    "print(\"l6==l7\", l6==l7)\n",
    "print(\"l7==l8\", l7==l8)"
   ],
   "metadata": {
    "collapsed": false,
    "pycharm": {
     "name": "#%%\n",
     "is_executing": false
    }
   }
  },
  {
   "cell_type": "code",
   "execution_count": 4,
   "outputs": [
    {
     "name": "stdout",
     "text": [
      "{'a': 10, 'b': 20}\n"
     ],
     "output_type": "stream"
    }
   ],
   "source": [
    "def func(d1):\n",
    "    d1['a'] = 10\n",
    "    d1['b'] = 20\n",
    "\n",
    "d = {'a': 1, 'b': 2}\n",
    "func(d)\n",
    "print(d)\n",
    "\n"
   ],
   "metadata": {
    "collapsed": false,
    "pycharm": {
     "name": "#%%\n",
     "is_executing": false
    }
   }
  }
 ],
 "metadata": {
  "kernelspec": {
   "display_name": "Python 3",
   "language": "python",
   "name": "python3"
  },
  "language_info": {
   "codemirror_mode": {
    "name": "ipython",
    "version": 2
   },
   "file_extension": ".py",
   "mimetype": "text/x-python",
   "name": "python",
   "nbconvert_exporter": "python",
   "pygments_lexer": "ipython2",
   "version": "2.7.6"
  },
  "pycharm": {
   "stem_cell": {
    "cell_type": "raw",
    "source": [],
    "metadata": {
     "collapsed": false
    }
   }
  }
 },
 "nbformat": 4,
 "nbformat_minor": 0
}