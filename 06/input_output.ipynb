{
 "cells": [
  {
   "cell_type": "code",
   "execution_count": 2,
   "metadata": {
    "collapsed": true,
    "pycharm": {
     "is_executing": false
    }
   },
   "outputs": [
    {
     "name": "stdout",
     "text": [
      "authorizing...\n",
      "welcome Mr. yumingtao\n"
     ],
     "output_type": "stream"
    }
   ],
   "source": [
    "name = input(\"your name:\")\n",
    "gender = input(\"you are a boy?(y/n)\")\n",
    "\n",
    "welcome_str = \"welcome {prefix} {name}\"\n",
    "\n",
    "welcome_dict = {\n",
    "    \"prefix\" : \"Mr.\" if gender==\"y\" else \"Mrs.\",\n",
    "    \"name\" : name\n",
    "}\n",
    "\n",
    "print(\"authorizing...\")\n",
    "print(welcome_str.format(**welcome_dict))"
   ]
  },
  {
   "cell_type": "code",
   "execution_count": 8,
   "outputs": [],
   "source": [
    "import re\n",
    "\n",
    "def parse(text, word_dict):\n",
    "    # 将非数字字母下划线替换为空格\n",
    "    text = re.sub('[^\\w]', \" \", text)\n",
    "    #text = re.sub(r'[^\\w ]', ' ', text)\n",
    "    text = text.lower()\n",
    "    \n",
    "    word_list = text.split(\" \")\n",
    "    \n",
    "    # 返回列表中所有为true（不为None）的元素，\n",
    "    word_list = filter(None, word_list)\n",
    "    \n",
    "    for word in word_list:\n",
    "        if word not in word_dict:\n",
    "            word_dict[word] = 1\n",
    "        word_dict[word] +=1\n",
    "    \n",
    "    return word_dict\n",
    "    \n",
    "word_dict = {}\n",
    "with open(\"input.txt\", \"r\") as fin:\n",
    "    #for text in fin.readlines():\n",
    "    for line in fin:\n",
    "        word_dict = parse(line, word_dict)\n",
    "\n",
    "sorted_word_dict = sorted(word_dict.items(), key=lambda x:x[1], reverse=True)\n",
    "\n",
    "with open(\"output.txt\", \"w\") as fout:\n",
    "    for word, freq in sorted_word_dict:\n",
    "        fout.write(\"{} {}\\n\".format(word, freq))\n",
    "        "
   ],
   "metadata": {
    "collapsed": false,
    "pycharm": {
     "name": "#%%\n",
     "is_executing": false
    }
   }
  },
  {
   "cell_type": "code",
   "execution_count": 15,
   "outputs": [
    {
     "name": "stdout",
     "text": [
      "The json string of is :  {\"name\": \"yumingtao\", \"age\": 30, \"height\": 170}\n",
      "The type of student_str is :  <class 'str'>\n",
      "The  student_obj of is :  {'name': 'yumingtao', 'age': 30, 'height': 170}\n",
      "The type of student_obj is :  <class 'dict'>\n"
     ],
     "output_type": "stream"
    }
   ],
   "source": [
    "import json\n",
    "\n",
    "student = {\n",
    "    \"name\" : \"yumingtao\",\n",
    "    \"age\" : 30,\n",
    "    \"height\" : 170\n",
    "}\n",
    "\n",
    "student_str = json.dumps(student)\n",
    "print(\"The json string of is : \",  student_str)\n",
    "print(\"The type of student_str is : \",  type(student_str))\n",
    "\n",
    "student_obj = json.loads(student_str)\n",
    "print(\"The  student_obj of is : \",  student_obj)\n",
    "print(\"The type of student_obj is : \",  type(student_obj))\n"
   ],
   "metadata": {
    "collapsed": false,
    "pycharm": {
     "name": "#%%\n",
     "is_executing": false
    }
   }
  },
  {
   "cell_type": "code",
   "execution_count": 19,
   "outputs": [
    {
     "name": "stdout",
     "text": [
      "The student2_obj is :  {'name': 'yumingtao', 'age': 30, 'height': 172}\n",
      "The type of student2_obj is :  <class 'dict'>\n"
     ],
     "output_type": "stream"
    }
   ],
   "source": [
    "import json\n",
    "student2 = {\n",
    "    \"name\" : \"yumingtao\",\n",
    "    \"age\" : 30,\n",
    "    \"height\" : 172\n",
    "}\n",
    "\n",
    "with open(\"student.json\", \"w\") as fout:\n",
    "    student2_str = json.dump(student2, fout)\n",
    "\n",
    "with open(\"student.json\", \"r\") as fin:\n",
    "    student2_obj = json.load(fin)\n",
    "\n",
    "print(\"The student2_obj is : \",  student2_obj)\n",
    "print(\"The type of student2_obj is : \",  type(student2_obj))\n",
    "\n",
    "\n"
   ],
   "metadata": {
    "collapsed": false,
    "pycharm": {
     "name": "#%%\n",
     "is_executing": false
    }
   }
  }
 ],
 "metadata": {
  "kernelspec": {
   "display_name": "Python 3",
   "language": "python",
   "name": "python3"
  },
  "language_info": {
   "codemirror_mode": {
    "name": "ipython",
    "version": 2
   },
   "file_extension": ".py",
   "mimetype": "text/x-python",
   "name": "python",
   "nbconvert_exporter": "python",
   "pygments_lexer": "ipython2",
   "version": "2.7.6"
  },
  "pycharm": {
   "stem_cell": {
    "cell_type": "raw",
    "source": [],
    "metadata": {
     "collapsed": false
    }
   }
  }
 },
 "nbformat": 4,
 "nbformat_minor": 0
}