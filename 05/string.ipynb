{
 "cells": [
  {
   "cell_type": "code",
   "execution_count": 1,
   "metadata": {
    "collapsed": true,
    "pycharm": {
     "is_executing": false
    }
   },
   "outputs": [
    {
     "data": {
      "text/plain": "True"
     },
     "metadata": {},
     "output_type": "execute_result",
     "execution_count": 1
    }
   ],
   "source": [
    "s1 = 'hello'\n",
    "s2 = \"hello\"\n",
    "s3 = '''hello'''\n",
    "\n",
    "s1 == s2 == s3"
   ]
  },
  {
   "cell_type": "code",
   "execution_count": 4,
   "outputs": [
    {
     "data": {
      "text/plain": "\"\\nI'm a developer.\\nI'm a developer.\\nI'm a developer.\\n\""
     },
     "metadata": {},
     "output_type": "execute_result",
     "execution_count": 4
    }
   ],
   "source": [
    "s4 = \"I'm a developer.\"\n",
    "s4"
   ],
   "metadata": {
    "collapsed": false,
    "pycharm": {
     "name": "#%%\n",
     "is_executing": false
    }
   }
  },
  {
   "cell_type": "code",
   "execution_count": 6,
   "outputs": [
    {
     "name": "stdout",
     "text": [
      "I'm a developer.\n",
      "I'm a developer.\n",
      "I'm a developer.\n",
      "\n"
     ],
     "output_type": "stream"
    }
   ],
   "source": [
    "s5 = \"\"\"I'm a developer.\n",
    "I'm a developer.\n",
    "I'm a developer.\n",
    "\"\"\"\n",
    "print(s5)\n"
   ],
   "metadata": {
    "collapsed": false,
    "pycharm": {
     "name": "#%%\n",
     "is_executing": false
    }
   }
  },
  {
   "cell_type": "code",
   "execution_count": 7,
   "outputs": [
    {
     "data": {
      "text/plain": "'in'"
     },
     "metadata": {},
     "output_type": "execute_result",
     "execution_count": 7
    }
   ],
   "source": [
    "s6 = \"yumingtao\"\n",
    "s6[3:5]"
   ],
   "metadata": {
    "collapsed": false,
    "pycharm": {
     "name": "#%%\n",
     "is_executing": false
    }
   }
  },
  {
   "cell_type": "code",
   "execution_count": 8,
   "outputs": [
    {
     "name": "stdout",
     "text": [
      "y\n",
      "u\n",
      "m\n",
      "i\n",
      "n\n",
      "g\n",
      "t\n",
      "a\n",
      "o\n"
     ],
     "output_type": "stream"
    }
   ],
   "source": [
    "s7 = \"yumingtao\"\n",
    "for c in s7:\n",
    "    print(c)\n"
   ],
   "metadata": {
    "collapsed": false,
    "pycharm": {
     "name": "#%%\n",
     "is_executing": false
    }
   }
  },
  {
   "cell_type": "code",
   "execution_count": 9,
   "outputs": [
    {
     "data": {
      "text/plain": "'1234'"
     },
     "metadata": {},
     "output_type": "execute_result",
     "execution_count": 9
    }
   ],
   "source": [
    "# 字符串不可变，不能更改里边的字符\n",
    "# +=是个例外\n",
    "str1 = \"12\"\n",
    "str2 = \"34\"\n",
    "#相当于str1 = str1 + str2，如果str1还没有被其它引用，\n",
    "#会原地扩容str1 buffer的大小，而不会重新分配内存创建新的字符串并copy\n",
    "str1 += str2\n",
    "str1"
   ],
   "metadata": {
    "collapsed": false,
    "pycharm": {
     "name": "#%%\n",
     "is_executing": false
    }
   }
  },
  {
   "cell_type": "code",
   "execution_count": 15,
   "outputs": [
    {
     "data": {
      "text/plain": "'3,4'"
     },
     "metadata": {},
     "output_type": "execute_result",
     "execution_count": 15
    }
   ],
   "source": [
    "str3 = \",\".join(str2)\n",
    "str3\n"
   ],
   "metadata": {
    "collapsed": false,
    "pycharm": {
     "name": "#%%\n",
     "is_executing": false
    }
   }
  },
  {
   "cell_type": "code",
   "execution_count": 16,
   "outputs": [
    {
     "data": {
      "text/plain": "'my name is ymt'"
     },
     "metadata": {},
     "output_type": "execute_result",
     "execution_count": 16
    }
   ],
   "source": [
    "str4 = ' my name is ymt '\n",
    "str4.strip()"
   ],
   "metadata": {
    "collapsed": false,
    "pycharm": {
     "name": "#%%\n",
     "is_executing": false
    }
   }
  },
  {
   "cell_type": "code",
   "execution_count": 18,
   "outputs": [
    {
     "name": "stdout",
     "text": [
      "yumingtao age is 18.\n"
     ],
     "output_type": "stream"
    }
   ],
   "source": [
    "name = \"yumingtao\"\n",
    "age = 18\n",
    "print(\"{} age is {}.\".format(name, age))\n",
    "\n"
   ],
   "metadata": {
    "collapsed": false,
    "pycharm": {
     "name": "#%%\n",
     "is_executing": false
    }
   }
  },
  {
   "cell_type": "code",
   "execution_count": 20,
   "outputs": [
    {
     "data": {
      "text/plain": "'0 1 2 3 4 5 6 7 8 9'"
     },
     "metadata": {},
     "output_type": "execute_result",
     "execution_count": 20
    }
   ],
   "source": [
    "#字符串拼接效率高\n",
    "str5 = \" \".join(map(str, range(0, 10))) \n",
    "str5\n"
   ],
   "metadata": {
    "collapsed": false,
    "pycharm": {
     "name": "#%%\n",
     "is_executing": false
    }
   }
  },
  {
   "cell_type": "code",
   "source": [
    "import time\n",
    "start_time = time.perf_counter()\n",
    "\n",
    "s = \"\"\n",
    "for i in range(0, 30):\n",
    "    s += str(i)\n",
    "print(\",\".join(s))\n",
    "\n",
    "total_time = time.perf_counter() - start_time\n",
    "print(\"Spent time is {}\".format(total_time))\n"
   ],
   "metadata": {
    "collapsed": false,
    "pycharm": {
     "name": "#%%\n",
     "is_executing": false
    }
   },
   "execution_count": 22,
   "outputs": [
    {
     "name": "stdout",
     "text": [
      "0,1,2,3,4,5,6,7,8,9,1,0,1,1,1,2,1,3,1,4,1,5,1,6,1,7,1,8,1,9,2,0,2,1,2,2,2,3,2,4,2,5,2,6,2,7,2,8,2,9\n",
      "Spent time is 0.00046432800036200206\n"
     ],
     "output_type": "stream"
    }
   ]
  },
  {
   "cell_type": "code",
   "execution_count": 23,
   "outputs": [
    {
     "name": "stdout",
     "text": [
      "0,1,2,3,4,5,6,7,8,9,10,11,12,13,14,15,16,17,18,19,20,21,22,23,24,25,26,27,28,29,30,31,32,33,34,35,36,37,38,39\n"
     ],
     "output_type": "stream"
    }
   ],
   "source": [
    "# 字符串拼接次数很大时，join的效率要高\n",
    "l = []\n",
    "for n in range(0, 40):\n",
    "    l.append(str(n))\n",
    "\n",
    "str6 = ','.join(l)\n",
    "print(str6)"
   ],
   "metadata": {
    "collapsed": false,
    "pycharm": {
     "name": "#%%\n",
     "is_executing": false
    }
   }
  }
 ],
 "metadata": {
  "kernelspec": {
   "display_name": "Python 3",
   "language": "python",
   "name": "python3"
  },
  "language_info": {
   "codemirror_mode": {
    "name": "ipython",
    "version": 2
   },
   "file_extension": ".py",
   "mimetype": "text/x-python",
   "name": "python",
   "nbconvert_exporter": "python",
   "pygments_lexer": "ipython2",
   "version": "2.7.6"
  },
  "pycharm": {
   "stem_cell": {
    "cell_type": "raw",
    "source": [],
    "metadata": {
     "collapsed": false
    }
   }
  }
 },
 "nbformat": 4,
 "nbformat_minor": 0
}