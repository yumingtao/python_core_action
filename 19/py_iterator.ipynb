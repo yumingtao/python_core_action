{
 "cells": [
  {
   "cell_type": "code",
   "execution_count": 1,
   "metadata": {
    "collapsed": true,
    "pycharm": {
     "is_executing": false
    }
   },
   "outputs": [
    {
     "name": "stdout",
     "text": [
      "1234 is iterable? False\n",
      "1234 is iterable? True\n",
      "[1, 2, 3, 4] is iterable? True\n",
      "{1, 2, 3, 4} is iterable? True\n",
      "{1: 1, 2: 2, 3: 3, 4: 4} is iterable? True\n",
      "(1, 2, 3, 4) is iterable? True\n"
     ],
     "output_type": "stream"
    }
   ],
   "source": [
    "def is_iterable(param):\n",
    "    try:\n",
    "        iter(param)\n",
    "        return True\n",
    "    except TypeError:\n",
    "        return False\n",
    "    \n",
    "params = [\n",
    "    1234, \n",
    "    '1234', \n",
    "    [1, 2, 3, 4], \n",
    "    set([1, 2, 3, 4]), \n",
    "    {1:1, 2:2, 3:3, 4:4}, \n",
    "    (1, 2, 3, 4)\n",
    "]\n",
    "\n",
    "for param in params:\n",
    "    print(\"{} is iterable? {}\".format(param, is_iterable(param)))\n"
   ]
  },
  {
   "cell_type": "code",
   "execution_count": 2,
   "outputs": [
    {
     "name": "stdout",
     "text": [
      "initial iterator memory used : 76.6953125 MB.\n",
      "after iterator initialed memory used : 78.94140625 MB.\n",
      "sum :  4999950000\n",
      "after sum called memory used : 78.94140625 MB.\n",
      "CPU times: user 13.3 ms, sys: 7.79 ms, total: 21 ms\n",
      "Wall time: 29.5 ms\n",
      "initial generator memory used : 77.19140625 MB.\n",
      "after generator initialed memory used : 77.19140625 MB.\n",
      "sum :  4999950000\n",
      "after sum called memory used : 77.19140625 MB.\n",
      "CPU times: user 16.3 ms, sys: 5.32 ms, total: 21.7 ms\n",
      "Wall time: 65.9 ms\n"
     ],
     "output_type": "stream"
    }
   ],
   "source": [
    "import os\n",
    "import psutil\n",
    "\n",
    "def show_memory_info(hint):\n",
    "    pid = os.getpid()\n",
    "    p = psutil.Process(pid)\n",
    "    \n",
    "    mem_full_info = p.memory_full_info()\n",
    "    mem = mem_full_info.uss/1024/1024\n",
    "    \n",
    "    print(\"{} memory used : {} MB.\".format(hint, mem))\n",
    "\n",
    "\n",
    "def test_iterator():\n",
    "    show_memory_info(\"initial iterator\")\n",
    "    list_1 = [i for i in range(100000)]\n",
    "    show_memory_info(\"after iterator initialed\")\n",
    "    print(\"sum : \", sum(list_1))\n",
    "    show_memory_info(\"after sum called\")\n",
    "   \n",
    "\n",
    "def test_generator():\n",
    "    show_memory_info(\"initial generator\")\n",
    "    list_2 = (i for i in range(100000))\n",
    "    show_memory_info(\"after generator initialed\")\n",
    "    print(\"sum : \", sum(list_2))\n",
    "    show_memory_info(\"after sum called\") \n",
    "\n",
    "%time test_iterator()\n",
    "%time test_generator()"
   ],
   "metadata": {
    "collapsed": false,
    "pycharm": {
     "name": "#%%\n",
     "is_executing": false
    }
   }
  },
  {
   "cell_type": "code",
   "execution_count": 5,
   "outputs": [
    {
     "name": "stdout",
     "text": [
      "<generator object <genexpr> at 0x10a184dd0>\n",
      "0\n",
      "1\n",
      "2\n",
      "3\n",
      "4\n",
      "5\n",
      "6\n",
      "7\n",
      "8\n",
      "9\n",
      "[0, 1, 2, 3, 4, 5, 6, 7, 8, 9]\n"
     ],
     "output_type": "stream"
    }
   ],
   "source": [
    "# 声明了一个迭代器\n",
    "l1 = (i for i in range(10))\n",
    "print(l1)\n",
    "for i in l1:\n",
    "    print(i)\n",
    "\n",
    "l2 = [i for i in range(10)]\n",
    "print(l2)"
   ],
   "metadata": {
    "collapsed": false,
    "pycharm": {
     "name": "#%%\n",
     "is_executing": false
    }
   }
  },
  {
   "cell_type": "code",
   "execution_count": 8,
   "outputs": [
    {
     "name": "stdout",
     "text": [
      "gen_1 <generator object generator at 0x10a0ef9d0>\n",
      "gen_3 <generator object generator at 0x109e74450>\n",
      "next_1 : 1, next_2 : 1\n",
      "sum_1*sum_1: 1\n",
      "sum_3 1\n",
      "next_1 : 2, next_2 : 8\n",
      "sum_1*sum_1: 9\n",
      "sum_3 9\n",
      "next_1 : 3, next_2 : 27\n",
      "sum_1*sum_1: 36\n",
      "sum_3 36\n",
      "next_1 : 4, next_2 : 64\n",
      "sum_1*sum_1: 100\n",
      "sum_3 100\n",
      "next_1 : 5, next_2 : 125\n",
      "sum_1*sum_1: 225\n",
      "sum_3 225\n",
      "next_1 : 6, next_2 : 216\n",
      "sum_1*sum_1: 441\n",
      "sum_3 441\n",
      "next_1 : 7, next_2 : 343\n",
      "sum_1*sum_1: 784\n",
      "sum_3 784\n",
      "next_1 : 8, next_2 : 512\n",
      "sum_1*sum_1: 1296\n",
      "sum_3 1296\n"
     ],
     "output_type": "stream"
    }
   ],
   "source": [
    "# yield把函数变成一个迭代器\n",
    "def generator(k):\n",
    "    i = 1\n",
    "    while True:\n",
    "        yield i**k # i**k为next的返回值\n",
    "        i += 1\n",
    "\n",
    "\n",
    "def get_sum(n):\n",
    "    sum_1, sum_3 = 0, 0\n",
    "    for i in range(n):\n",
    "        next_1 = next(gen_1)\n",
    "        next_3 = next(gen_3)\n",
    "        print(\"next_1 : {}, next_2 : {}\".format(next_1, next_3))\n",
    "        sum_1 += next_1\n",
    "        sum_3 += next_3\n",
    "        print(\"sum_1*sum_1:\", sum_1 * sum_1)\n",
    "        print(\"sum_3\", sum_3)\n",
    "\n",
    "gen_1 = generator(1)\n",
    "gen_3 = generator(3)\n",
    "\n",
    "print(\"gen_1\", gen_1)\n",
    "print(\"gen_3\", gen_3)\n",
    "\n",
    "get_sum(8)"
   ],
   "metadata": {
    "collapsed": false,
    "pycharm": {
     "name": "#%%\n",
     "is_executing": false
    }
   }
  },
  {
   "cell_type": "code",
   "execution_count": 9,
   "outputs": [
    {
     "name": "stdout",
     "text": [
      "[3, 6]\n",
      "[3, 6]\n"
     ],
     "output_type": "stream"
    }
   ],
   "source": [
    "def index_normal(l, target):\n",
    "    result = []\n",
    "    for idx, num in enumerate(l):\n",
    "        if num == target:\n",
    "            result.append(idx)\n",
    "    return result\n",
    "\n",
    "\n",
    "def index_generator(l, target):\n",
    "    for idx, num in enumerate(l):\n",
    "        if num == target:\n",
    "            yield idx\n",
    "            \n",
    "\n",
    "l3 = [1, 3, 5, 2, 5, 3, 2, 5, 1, 9]\n",
    "print(index_normal(l3, 2))\n",
    "print(list(index_generator(l3, 2)))"
   ],
   "metadata": {
    "collapsed": false,
    "pycharm": {
     "name": "#%%\n",
     "is_executing": false
    }
   }
  },
  {
   "cell_type": "code",
   "execution_count": 12,
   "outputs": [
    {
     "name": "stdout",
     "text": [
      "True\n",
      "False\n",
      "True\n",
      "False\n"
     ],
     "output_type": "stream"
    }
   ],
   "source": [
    "# is subsequence\n",
    "# https://leetcode.com/problems/is-subsequence/\n",
    "# if a is subsequence of b, return True, else False\n",
    "\n",
    "def is_subsequence_normal(a, b):\n",
    "    idx_a = 0\n",
    "    num_a = a[idx_a]\n",
    "    for num_b in b:\n",
    "        if num_a == num_b:\n",
    "            idx_a += 1\n",
    "            if idx_a == len(a):\n",
    "                return True\n",
    "            else:\n",
    "                num_a = a[idx_a]\n",
    "        \n",
    "    return False\n",
    "\n",
    "# all(iterable) 函数用于判断给定的可迭代参数iterable中的所有元素是否都为TRUE，\n",
    "# 如果是返回 True，否则返回 False\n",
    "def is_subsequence_generator(a, b):\n",
    "    b = iter(b)\n",
    "    return all(i in b for i in a)\n",
    "\n",
    "print(is_subsequence_normal([1, 3, 5], [1, 2, 3, 4, 5]))\n",
    "print(is_subsequence_normal([1, 4, 3], [1, 2, 3, 4, 5]))\n",
    "\n",
    "print(is_subsequence_generator([1, 3, 5], [1, 2, 3, 4, 5]))\n",
    "print(is_subsequence_generator([1, 4, 3], [1, 2, 3, 4, 5]))\n"
   ],
   "metadata": {
    "collapsed": false,
    "pycharm": {
     "name": "#%%\n",
     "is_executing": false
    }
   }
  }
 ],
 "metadata": {
  "kernelspec": {
   "display_name": "Python 3",
   "language": "python",
   "name": "python3"
  },
  "language_info": {
   "codemirror_mode": {
    "name": "ipython",
    "version": 2
   },
   "file_extension": ".py",
   "mimetype": "text/x-python",
   "name": "python",
   "nbconvert_exporter": "python",
   "pygments_lexer": "ipython2",
   "version": "2.7.6"
  },
  "pycharm": {
   "stem_cell": {
    "cell_type": "raw",
    "source": [],
    "metadata": {
     "collapsed": false
    }
   }
  }
 },
 "nbformat": 4,
 "nbformat_minor": 0
}