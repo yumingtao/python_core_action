{
 "cells": [
  {
   "cell_type": "code",
   "execution_count": 10,
   "metadata": {
    "collapsed": true,
    "pycharm": {
     "is_executing": false
    }
   },
   "outputs": [
    {
     "name": "stdout",
     "text": [
      "Tony is compensated 11 dollars.\n",
      "Tony is compensated 11 dollars.\n"
     ],
     "output_type": "stream"
    }
   ],
   "source": [
    "def pay(name, salary = None):\n",
    "    if not salary:\n",
    "        salary = 11\n",
    "    print(name, \"is compensated\", salary, \"dollars.\")\n",
    "    \n",
    "pay(\"Tony\", 0)\n",
    "pay(\"Tony\")"
   ]
  },
  {
   "cell_type": "code",
   "execution_count": 9,
   "outputs": [
    {
     "name": "stdout",
     "text": [
      "Tony is compensated 11 dollars.\n",
      "True\n",
      "True\n",
      "Tony is compensated None dollars.\n"
     ],
     "output_type": "stream"
    }
   ],
   "source": [
    "def pay_1(name, salary = None):\n",
    "    if salary is not None:\n",
    "        salary = 11\n",
    "    print(name, \"is compensated\", salary, \"dollars.\")\n",
    "    \n",
    "pay_1(\"Tony\", 0)\n",
    "\n",
    "print(0 is not None)\n",
    "print(not 0)\n",
    "pay_1(\"Tony\")"
   ],
   "metadata": {
    "collapsed": false,
    "pycharm": {
     "name": "#%%\n",
     "is_executing": false
    }
   }
  }
 ],
 "metadata": {
  "kernelspec": {
   "display_name": "Python 3",
   "language": "python",
   "name": "python3"
  },
  "language_info": {
   "codemirror_mode": {
    "name": "ipython",
    "version": 2
   },
   "file_extension": ".py",
   "mimetype": "text/x-python",
   "name": "python",
   "nbconvert_exporter": "python",
   "pygments_lexer": "ipython2",
   "version": "2.7.6"
  },
  "pycharm": {
   "stem_cell": {
    "cell_type": "raw",
    "source": [],
    "metadata": {
     "collapsed": false
    }
   }
  }
 },
 "nbformat": 4,
 "nbformat_minor": 0
}