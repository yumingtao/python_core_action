{
 "cells": [
  {
   "cell_type": "code",
   "execution_count": 1,
   "metadata": {
    "collapsed": true,
    "pycharm": {
     "is_executing": false
    }
   },
   "outputs": [
    {
     "name": "stdout",
     "text": [
      "positive\n",
      "zero\n",
      "negative\n"
     ],
     "output_type": "stream"
    }
   ],
   "source": [
    "def f1(val):\n",
    "    if val < 0:\n",
    "        print(\"negative\")\n",
    "    elif val > 0:\n",
    "        print(\"positive\")\n",
    "    else:\n",
    "        print(\"zero\")\n",
    "\n",
    "f1(1)\n",
    "f1(0)\n",
    "f1(-1)\n",
    "\n"
   ]
  },
  {
   "cell_type": "markdown",
   "source": [
    "#### 省略判断条件\n",
    "| 数据类型 | 结果 |\n",
    "|:----------:|:------:|\n",
    "|string | \"\"为false，否则true|\n",
    "|Int|0-false, 否则-true|\n",
    "|Bool| True-true, False-false|\n",
    "|list/tuple/dict/set|Iterable解析为空-false，其余true|\n",
    "|Object|None-false，其余true|\n",
    "\n"
   ],
   "metadata": {
    "collapsed": false
   }
  },
  {
   "cell_type": "code",
   "execution_count": 3,
   "outputs": [
    {
     "name": "stdout",
     "text": [
      "0 1\n",
      "1 2\n",
      "2 3\n",
      "3 4\n",
      "use enumerate\n",
      "0 1\n",
      "1 2\n",
      "2 3\n",
      "3 4\n"
     ],
     "output_type": "stream"
    }
   ],
   "source": [
    "# loop\n",
    "l1 = [1, 2, 3, 4]\n",
    "for i in range(0, len(l1)):\n",
    "    print(i, l1[i])\n",
    "\n",
    "print(\"---use enumerate:---\")\n",
    "for i, v in enumerate(l1):\n",
    "    print(i, v)\n",
    "    "
   ],
   "metadata": {
    "collapsed": false,
    "pycharm": {
     "name": "#%%\n",
     "is_executing": false
    }
   }
  },
  {
   "cell_type": "code",
   "execution_count": 6,
   "outputs": [
    {
     "name": "stdout",
     "text": [
      "['Tuesday']\n"
     ],
     "output_type": "stream"
    }
   ],
   "source": [
    "# expression for item in iterable if condition\n",
    "# 将文件中逐行读取的一个完整语句，按逗号分割单词，去掉首位的空字符，\n",
    "# 并过滤掉长度小于等于5的单词，最后返回由单词组成的列表\n",
    "text = \" Today, is, Tuesday\" #expect [Tuesday]\n",
    "#l2 = [str.lstrip(s) for s in text.split(\",\") if len(s) > 5]\n",
    "l2 = [s.strip() for s in text.split(\",\") if len(s.strip()) > 5]\n",
    "print(l2)"
   ],
   "metadata": {
    "collapsed": false,
    "pycharm": {
     "name": "#%%\n",
     "is_executing": false
    }
   }
  },
  {
   "cell_type": "code",
   "execution_count": 11,
   "outputs": [
    {
     "name": "stdout",
     "text": [
      "[(1, 2), (1, 4), (2, 4), (3, 2), (3, 4), (4, 2), (5, 2), (5, 4)]\n"
     ],
     "output_type": "stream"
    }
   ],
   "source": [
    "l3 = [1, 2, 3, 4, 5]\n",
    "l4 = [2, 4]\n",
    "t1 = [(x, y) for x in l3 for y in l4 if x != y]\n",
    "print(t1)"
   ],
   "metadata": {
    "collapsed": false,
    "pycharm": {
     "name": "#%%\n",
     "is_executing": false
    }
   }
  },
  {
   "cell_type": "code",
   "execution_count": 34,
   "outputs": [
    {
     "name": "stdout",
     "text": [
      "[{'name': 'nancy', 'dob': '2001-02-01', 'gender': 'female'}, {'name': 'nancy', 'dob': '2001-02-01', 'gender': 'female'}, {'name': 'nancy', 'dob': '2001-02-01', 'gender': 'female'}]\n",
      "[{'name': 'jason', 'dob': '2000-01-01', 'gender': 'male'}, {'name': 'mike', 'dob': '1999-01-01', 'gender': 'male'}, {'name': 'nancy', 'dob': '2001-02-01', 'gender': 'female'}]\n",
      "[{'name': 'jason', 'dob': '2000-01-01', 'gender': 'male'}, {'name': 'mike', 'dob': '1999-01-01', 'gender': 'male'}, {'name': 'nancy', 'dob': '2001-02-01', 'gender': 'female'}]\n"
     ],
     "output_type": "stream"
    }
   ],
   "source": [
    "# 给定下面两个列表 attributes 和 values，要求针对 values 中每一组子列表 value，\n",
    "# 输出其和 attributes 中的键对应后的字典，最后返回字典组成的列表\n",
    "# 分别用一行和多行条件循环语句，来实现这个功能\n",
    "attributes = ['name', 'dob', 'gender']\n",
    "values = [['jason', '2000-01-01', 'male'], \n",
    "    ['mike', '1999-01-01', 'male'],\n",
    "    ['nancy', '2001-02-01', 'female']\n",
    "]\n",
    "\n",
    "# expected output:\n",
    "'''\n",
    "[{'name': 'jason', 'dob': '2000-01-01', 'gender': 'male'}, \n",
    "{'name': 'mike', 'dob': '1999-01-01', 'gender': 'male'}, \n",
    "{'name': 'nancy', 'dob': '2001-02-01', 'gender': 'female'}]\n",
    "'''\n",
    "\n",
    "# loop\n",
    "output_list1 = []\n",
    "m1 = dict()\n",
    "\n",
    "for value in values:\n",
    "    for i in range(0, len(attributes)):\n",
    "        k = attributes[i]\n",
    "        v = value[i]\n",
    "        m1[k] = v\n",
    "    output_list1.append(m1)\n",
    "\n",
    "print(output_list1)\n",
    "\n",
    "# 一行\n",
    "#output_list2 = [(j, value[j]) for value in values for j in range(0, len(value))]\n",
    "output_list2=[dict(zip(attributes,v2)) for v2 in values]\n",
    "print(output_list2)\n",
    "\n",
    "print(list(map(lambda x: dict(zip(attributes, x)), values)))"
   ],
   "metadata": {
    "collapsed": false,
    "pycharm": {
     "name": "#%%\n",
     "is_executing": false
    }
   }
  },
  {
   "cell_type": "code",
   "execution_count": 33,
   "outputs": [
    {
     "name": "stdout",
     "text": [
      "{1: 'a', 2: 'b'}\n"
     ],
     "output_type": "stream"
    }
   ],
   "source": [
    "# zip() 函数用于将可迭代的对象作为参数，将对象中对应的元素打包成一个个元组，\n",
    "# 然后返回由这些元组组成的对象，这样做的好处是节约了不少的内存\n",
    "a = [1,2]\n",
    "b = [\"a\", \"b\"]\n",
    "zipped = zip(a, b)\n",
    "#print(list(zipped)) \n",
    "print(dict(zipped))"
   ],
   "metadata": {
    "collapsed": false,
    "pycharm": {
     "name": "#%%\n",
     "is_executing": false
    }
   }
  }
 ],
 "metadata": {
  "kernelspec": {
   "display_name": "Python 3",
   "language": "python",
   "name": "python3"
  },
  "language_info": {
   "codemirror_mode": {
    "name": "ipython",
    "version": 2
   },
   "file_extension": ".py",
   "mimetype": "text/x-python",
   "name": "python",
   "nbconvert_exporter": "python",
   "pygments_lexer": "ipython2",
   "version": "2.7.6"
  },
  "pycharm": {
   "stem_cell": {
    "cell_type": "raw",
    "source": [],
    "metadata": {
     "collapsed": false
    }
   }
  }
 },
 "nbformat": 4,
 "nbformat_minor": 0
}