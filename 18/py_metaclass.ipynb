{
 "cells": [
  {
   "cell_type": "code",
   "execution_count": 83,
   "metadata": {
    "collapsed": true,
    "pycharm": {
     "is_executing": false
    }
   },
   "outputs": [
    {
     "name": "stdout",
     "text": [
      "---load yaml 序列化成对象---\n",
      "Monster(name='Cave spider1', hp=[2, 6], ac=16, attacks=['BITE', 'HURT'])\n",
      "Monster(name='Cave spider2', hp=[8, 6], ac=16, attacks=['BITE', 'HURT'])\n",
      "---dump 对象反序列化成yaml格式---\n",
      "!!python/object:__main__.Monster\n",
      "ac: 16\n",
      "attacks:\n",
      "- BITE\n",
      "- HURT\n",
      "hp:\n",
      "- 3\n",
      "- 6\n",
      "name: Cave lizard1\n",
      "\n",
      "!!python/object:__main__.Monster\n",
      "ac: 16\n",
      "attacks:\n",
      "- BITE\n",
      "- HURT\n",
      "hp:\n",
      "- 6\n",
      "- 6\n",
      "name: Cave lizard2\n",
      "\n"
     ],
     "output_type": "stream"
    }
   ],
   "source": [
    "import yaml\n",
    "\n",
    "# Monster没有继承，需要使用标签!!python/object:__main__.Monster\n",
    "# 反序列化时，才能判断要序列化成的数据类型\n",
    "class Monster:\n",
    "    def __init__(self, name, hp, ac, attacks):\n",
    "        self.name = name\n",
    "        self.hp = hp\n",
    "        self.ac = ac\n",
    "        self.attacks = attacks\n",
    "    \n",
    "    def __repr__(self):\n",
    "        return \"%s(name=%r, hp=%r, ac=%r, attacks=%r)\" % (\n",
    "            self.__class__.__name__, self.name, self.hp,\n",
    "            self.ac, self.attacks\n",
    "        )\n",
    "\n",
    "\n",
    "# 对于load和dump方法，完全不需要提前知道类型的信息，只要它们继承了YAMLObject\n",
    "# 就能被序列化和反序列化\n",
    "monster_object_load_1 = yaml.load(\"\"\"\n",
    "!!python/object:__main__.Monster\n",
    "    name: Cave spider1\n",
    "    hp: #2d6\n",
    "      - 2\n",
    "      - 6\n",
    "    ac: 16\n",
    "    attacks:\n",
    "      - BITE\n",
    "      - HURT\n",
    "    \"\"\", Loader=yaml.Loader)\n",
    "\n",
    "monster_object_load_2 = yaml.load(\"\"\"\n",
    "!!python/object:__main__.Monster\n",
    "    name: Cave spider2\n",
    "    hp: [8,6] #2d6\n",
    "    ac: 16\n",
    "    attacks: [BITE,HURT]\n",
    "    \"\"\", Loader=yaml.Loader)\n",
    "\n",
    "print(\"---load yaml 序列化成对象---\")\n",
    "print(monster_object_load_1)\n",
    "print(monster_object_load_2)\n",
    "\n",
    "print(\"---dump 对象反序列化成yaml格式---\")\n",
    "monster_object = Monster('Cave lizard1', [3,6], 16, ['BITE','HURT'])\n",
    "monster_object_dump_1 = yaml.dump(monster_object)\n",
    "monster_object_dump_2 = yaml.dump(Monster(name='Cave lizard2', hp=[6,6], ac=16, attacks=['BITE','HURT']))\n",
    "print(monster_object_dump_1)\n",
    "print(monster_object_dump_2)"
   ]
  },
  {
   "cell_type": "code",
   "execution_count": 82,
   "outputs": [
    {
     "name": "stdout",
     "text": [
      "---load yaml 序列化成对象---\n",
      "Monster2(name='Cave spider1', hp=[2, 6], ac=16, attacks=['BITE', 'HURT'])\n",
      "Monster2(name='Cave spider2', hp=[8, 6], ac=16, attacks=['BITE', 'HURT'])\n",
      "---dump 对象反序列化成yaml格式---\n",
      "!Monster2\n",
      "ac: 16\n",
      "attacks:\n",
      "- BITE\n",
      "- HURT\n",
      "hp:\n",
      "- 3\n",
      "- 6\n",
      "name: Cave lizard1\n",
      "\n",
      "!Monster2\n",
      "ac: 16\n",
      "attacks:\n",
      "- BITE\n",
      "- HURT\n",
      "hp:\n",
      "- 6\n",
      "- 6\n",
      "name: Cave lizard2\n",
      "\n"
     ],
     "output_type": "stream"
    }
   ],
   "source": [
    "import yaml\n",
    "\n",
    "# YAMLObject的任意子类型支持序列化与反序列化\n",
    "# 继承了YAMLObject, 可以通过yaml_tag设置自定义标签\n",
    "# 当然，不设置自定义标签，还是需要使用!!python/object:__main__.Monster2\n",
    "class Monster2(yaml.YAMLObject):\n",
    "    # 自定义定义标签\n",
    "    yaml_tag = u'!Monster2'\n",
    "    def __init__(self, name, hp, ac, attacks):\n",
    "        self.name = name\n",
    "        self.hp = hp\n",
    "        self.ac = ac\n",
    "        self.attacks = attacks\n",
    "    \n",
    "    def __repr__(self):\n",
    "        return \"%s(name=%r, hp=%r, ac=%r, attacks=%r)\" % (\n",
    "            self.__class__.__name__, self.name, self.hp,\n",
    "            self.ac, self.attacks\n",
    "        )\n",
    "\n",
    "\n",
    "# 对于load和dump方法，完全不需要提前知道类型的信息，只要它们继承了YAMLObject\n",
    "# 就能被序列化和反序列化\n",
    "monster2_object_load_1 = yaml.load(\"\"\"\n",
    "    !Monster2\n",
    "    name: Cave spider1\n",
    "    hp: #2d6\n",
    "      - 2\n",
    "      - 6\n",
    "    ac: 16\n",
    "    attacks:\n",
    "      - BITE\n",
    "      - HURT\n",
    "    \"\"\", Loader=yaml.Loader)\n",
    "\n",
    "monster2_object_load_2 = yaml.load(\"\"\"\n",
    "    !Monster2\n",
    "    name: Cave spider2\n",
    "    hp: [8,6] #2d6\n",
    "    ac: 16\n",
    "    attacks: [BITE,HURT]\n",
    "    \"\"\", Loader=yaml.Loader)\n",
    "\n",
    "print(\"---load yaml 序列化成对象---\")\n",
    "print(monster2_object_load_1)\n",
    "print(monster2_object_load_2)\n",
    "\n",
    "print(\"---dump 对象反序列化成yaml格式---\")\n",
    "monster2_object = Monster2('Cave lizard1', [3,6], 16, ['BITE','HURT'])\n",
    "monster2_object_dump_1 = yaml.dump(monster2_object)\n",
    "monster2_object_dump_2 = yaml.dump(Monster2(name='Cave lizard2', hp=[6,6], ac=16, attacks=['BITE','HURT']))\n",
    "print(monster2_object_dump_1)\n",
    "print(monster2_object_dump_2)\n",
    "\n"
   ],
   "metadata": {
    "collapsed": false,
    "pycharm": {
     "name": "#%%\n",
     "is_executing": false
    }
   }
  },
  {
   "cell_type": "code",
   "execution_count": 89,
   "outputs": [
    {
     "name": "stdout",
     "text": [
      "<class '__main__.MyClass'>\n",
      "<class 'type'>\n",
      "MyClass1 is :  <class '__main__.MyClass1'>\n",
      "my_class1_instance is :  <__main__.MyClass1 object at 0x10f5733d0>\n",
      "my_class1_instance.data is :  1\n",
      "MyClass2 is :  <class '__main__.MyClass1'>\n",
      "my_class2_instance is :  <__main__.MyClass1 object at 0x10f3d33d0>\n",
      "my_class2_instance.data is :  2\n"
     ],
     "output_type": "stream"
    }
   ],
   "source": [
    "# 所有用自定义的类的类型都是type\n",
    "class MyClass:\n",
    "    pass\n",
    "\n",
    "my_class_instance = MyClass()\n",
    "print(type(my_class_instance))\n",
    "print(type(MyClass))\n",
    "\n",
    "class MyClass1:\n",
    "    data = 1\n",
    "\n",
    "my_class1_instance = MyClass1()\n",
    "print(\"MyClass1 is : \", MyClass1)\n",
    "print(\"my_class1_instance is : \", my_class1_instance)\n",
    "print(\"my_class1_instance.data is : \", my_class1_instance.data)\n",
    "\n",
    "# 用户自定义的类，是type类的__call__运算符重载，\n",
    "# 如下\n",
    "MyClass2 = type(\"MyClass1\",(),{\"data\": 2})\n",
    "my_class2_instance = MyClass2()\n",
    "print(\"MyClass2 is : \", MyClass2)\n",
    "print(\"my_class2_instance is : \", my_class2_instance)\n",
    "print(\"my_class2_instance.data is : \", my_class2_instance.data)\n",
    "\n",
    "# metaclass是type的子类，通过替换type的__call__运算符重载机制，\n",
    "# 从而构造想要构造的python类"
   ],
   "metadata": {
    "collapsed": false,
    "pycharm": {
     "name": "#%%\n",
     "is_executing": false
    }
   }
  },
  {
   "cell_type": "markdown",
   "source": [
    "#### `__init__()`的作用是初始化某个类的一个实例\n",
    "#### `__call__()`的作用是使实例能够像函数一样被调用，同时不影响实例本身的生命周期（`__call__()`不影响一个实例的构造和析构）。但是`__call__()`可以用来改变实例的内部成员的值。\n"
   ],
   "metadata": {
    "collapsed": false
   }
  },
  {
   "cell_type": "code",
   "execution_count": null,
   "outputs": [],
   "source": [
    "# 可以在一个类中加入__metaclass__属性，python会使使用__metaclass__来创造类\n",
    "# 当写下如下代码时，内存中还没有Foo这个类对象\n",
    "# python会在Foo类定义中查找__metaclass__，存在则使用__metaclass__创造Foo类对象\n",
    "# 不存在，则使用type来创造类对象\n",
    "class Foo(object):\n",
    "    __metaclass__= \"something\"\n",
    "\n",
    "# 对于如下情况\n",
    "# Foo1类定义中没有__metaclass__，到父类中查找__metaclass__\n",
    "# 如果遍历父类都找不到__metaclass__，会在模块中寻找__metaclass__\n",
    "# 如果还是找不到，会用内置的type来创建这个类对象\n",
    "class Bar:\n",
    "    pass\n",
    "\n",
    "class Foo1(Bar):\n",
    "    pass\n",
    "\n",
    "# 元类可以修改类的行为，比较危险，慎用\n",
    "# 参考 \n",
    "# https://segmentfault.com/a/1190000007255412\n",
    "# https://wiki.jikexueyuan.com/project/explore-python/Class/metaclass.html\n",
    "\n",
    "\n"
   ],
   "metadata": {
    "collapsed": false,
    "pycharm": {
     "name": "#%%\n"
    }
   }
  }
 ],
 "metadata": {
  "kernelspec": {
   "display_name": "Python 3",
   "language": "python",
   "name": "python3"
  },
  "language_info": {
   "codemirror_mode": {
    "name": "ipython",
    "version": 2
   },
   "file_extension": ".py",
   "mimetype": "text/x-python",
   "name": "python",
   "nbconvert_exporter": "python",
   "pygments_lexer": "ipython2",
   "version": "2.7.6"
  },
  "pycharm": {
   "stem_cell": {
    "cell_type": "raw",
    "source": [],
    "metadata": {
     "collapsed": false
    }
   }
  }
 },
 "nbformat": 4,
 "nbformat_minor": 0
}