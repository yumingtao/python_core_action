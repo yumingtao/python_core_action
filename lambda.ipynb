{
 "cells": [
  {
   "cell_type": "code",
   "execution_count": null,
   "outputs": [],
   "source": [
    "square = lambda x: x**2\n",
    "print(square(4)) #expect 16\n",
    "\n",
    "l1 = [(lambda x: x*x)(x) for x in range(0,10)]\n",
    "print(l1)"
   ],
   "metadata": {
    "collapsed": false,
    "pycharm": {
     "name": "#%%\n"
    }
   }
  },
  {
   "cell_type": "code",
   "execution_count": 5,
   "outputs": [
    {
     "name": "stdout",
     "text": [
      "[('e', 1), ('a', 3), ('c', 7)]\n",
      "[('e', 1), ('a', 3), ('c', 7)]\n"
     ],
     "output_type": "stream"
    }
   ],
   "source": [
    "lt = [(\"a\", 3), (\"c\", 7), (\"e\", 1)]\n",
    "lt_sorted1 = sorted(lt, key=lambda x:x[1])\n",
    "print(lt_sorted1)\n",
    "\n",
    "lt.sort(key=lambda x:x[1])\n",
    "print(lt)\n"
   ],
   "metadata": {
    "collapsed": false,
    "pycharm": {
     "name": "#%%\n",
     "is_executing": false
    }
   }
  },
  {
   "cell_type": "code",
   "execution_count": 13,
   "outputs": [
    {
     "name": "stdout",
     "text": [
      "1\n",
      "9\n",
      "16\n"
     ],
     "output_type": "stream"
    }
   ],
   "source": [
    "l2 = [1, 3, 4]\n",
    "square_l2 = map(lambda x:x**2, l2)\n",
    "for v in square_l2:\n",
    "    print(v)\n"
   ],
   "metadata": {
    "collapsed": false,
    "pycharm": {
     "name": "#%%\n",
     "is_executing": false
    }
   }
  },
  {
   "cell_type": "code",
   "execution_count": 14,
   "outputs": [
    {
     "name": "stdout",
     "text": [
      "being pressed\n",
      "being pressed\n",
      "being pressed\n",
      "being pressed\n",
      "being pressed\n",
      "being pressed\n",
      "being pressed\n",
      "being pressed\n",
      "being pressed\n"
     ],
     "output_type": "stream"
    }
   ],
   "source": [
    "from tkinter import Button, mainloop\n",
    "button = Button(\n",
    "    text='This is a button',\n",
    "    command=lambda: print('being pressed')) # 点击时调用lambda函数\n",
    "button.pack()\n",
    "mainloop()\n"
   ],
   "metadata": {
    "collapsed": false,
    "pycharm": {
     "name": "#%%\n",
     "is_executing": false
    }
   }
  },
  {
   "cell_type": "code",
   "execution_count": null,
   "outputs": [],
   "source": [
    "## map性能最佳\n",
    "#python3 -mtimeit -s'xs=range(10000)' 'map(lambda x: x*2, xs)'\n",
    "#python3 -mtimeit -s'xs=range(10000)' '[x * 2 for x in xs]'\n",
    "#python3 -mtimeit -s'xs=range(10000)' 'l = []' 'for i in xs: l.append(i * 2)'\n",
    "\n"
   ],
   "metadata": {
    "collapsed": false,
    "pycharm": {
     "name": "#%%\n"
    }
   }
  },
  {
   "cell_type": "code",
   "execution_count": 7,
   "outputs": [
    {
     "name": "stdout",
     "text": [
      "[2, 4, 6]\n"
     ],
     "output_type": "stream"
    }
   ],
   "source": [
    "# filter\n",
    "# 得到偶数\n",
    "l3 = [1, 2, 3, 4, 5, 6]\n",
    "filtered_l3 = filter(lambda x: x%2 ==0, l3)\n",
    "# for v in filtered_l3:\n",
    "#     print(v)\n",
    "print(list(filtered_l3))"
   ],
   "metadata": {
    "collapsed": false,
    "pycharm": {
     "name": "#%%\n",
     "is_executing": false
    }
   }
  },
  {
   "cell_type": "code",
   "execution_count": 18,
   "outputs": [
    {
     "name": "stdout",
     "text": [
      "24\n"
     ],
     "output_type": "stream"
    }
   ],
   "source": [
    "# reduce, 通常对一个集合做一些累积操作\n",
    "from functools import reduce\n",
    "l4 = [1, 2, 3, 4]\n",
    "reduced_l4 = reduce(lambda x, y:x*y, l4) #1*2*3*4\n",
    "print(reduced_l4)"
   ],
   "metadata": {
    "collapsed": false,
    "pycharm": {
     "name": "#%%\n",
     "is_executing": false
    }
   }
  },
  {
   "cell_type": "code",
   "execution_count": 3,
   "outputs": [
    {
     "name": "stdout",
     "text": [
      "[('ben', 30), ('mike', 10), ('lucy', 2)]\n"
     ],
     "output_type": "stream"
    }
   ],
   "source": [
    "#一个字典，根据值进行由高到底的排序\n",
    "d1 = {'mike': 10, 'lucy': 2, 'ben': 30}\n",
    "sorted_d1 = sorted(d1.items(), key=lambda x:x[1], reverse=True)\n",
    "print(sorted_d1)\n"
   ],
   "metadata": {
    "collapsed": false,
    "pycharm": {
     "name": "#%%\n",
     "is_executing": false
    }
   }
  }
 ],
 "metadata": {
  "kernelspec": {
   "display_name": "Python 3",
   "language": "python",
   "name": "python3"
  },
  "language_info": {
   "codemirror_mode": {
    "name": "ipython",
    "version": 2
   },
   "file_extension": ".py",
   "mimetype": "text/x-python",
   "name": "python",
   "nbconvert_exporter": "python",
   "pygments_lexer": "ipython2",
   "version": "2.7.6"
  },
  "pycharm": {
   "stem_cell": {
    "cell_type": "raw",
    "source": [],
    "metadata": {
     "collapsed": false
    }
   }
  }
 },
 "nbformat": 4,
 "nbformat_minor": 0
}