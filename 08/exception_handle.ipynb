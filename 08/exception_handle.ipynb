{
 "cells": [
  {
   "cell_type": "code",
   "execution_count": 5,
   "metadata": {
    "collapsed": true,
    "pycharm": {
     "is_executing": false
    }
   },
   "outputs": [
    {
     "name": "stdout",
     "text": [
      "2.0\n",
      "Error: division by zero\n"
     ],
     "output_type": "stream"
    }
   ],
   "source": [
    "def div1(a, b):\n",
    "    try:\n",
    "        c = a/b\n",
    "        print(c)\n",
    "    except ZeroDivisionError as err:\n",
    "        print(\"Error:\", err)\n",
    "\n",
    "div1(4, 2)\n",
    "div1(4, 0)"
   ]
  },
  {
   "cell_type": "code",
   "execution_count": 6,
   "outputs": [
    {
     "name": "stdout",
     "text": [
      "2.0\n",
      "Error: division by zero\n"
     ],
     "output_type": "stream"
    }
   ],
   "source": [
    "def div2(a, b):\n",
    "    try:\n",
    "        c = a/b\n",
    "        print(c)\n",
    "    except Exception as err:\n",
    "        print(\"Error:\", err)\n",
    "\n",
    "div2(4, 2)\n",
    "div2(4, 0)\n"
   ],
   "metadata": {
    "collapsed": false,
    "pycharm": {
     "name": "#%%\n",
     "is_executing": false
    }
   }
  },
  {
   "cell_type": "code",
   "execution_count": 7,
   "outputs": [
    {
     "name": "stdout",
     "text": [
      "2.0\n",
      "Error: division by zero\n",
      "Error: unsupported operand type(s) for /: 'int' and 'str'\n"
     ],
     "output_type": "stream"
    }
   ],
   "source": [
    "def div3(a, b):\n",
    "    try:\n",
    "        c = a/b\n",
    "        print(c)\n",
    "    except (ZeroDivisionError, Exception) as err:\n",
    "        print(\"Error:\", err)\n",
    "\n",
    "div3(4, 2)\n",
    "div3(4, 0)\n",
    "div3(4, \"0\")\n"
   ],
   "metadata": {
    "collapsed": false,
    "pycharm": {
     "name": "#%%\n",
     "is_executing": false
    }
   }
  },
  {
   "cell_type": "code",
   "execution_count": 8,
   "outputs": [
    {
     "name": "stdout",
     "text": [
      "2.0\n",
      "Error:\n",
      "Error:\n"
     ],
     "output_type": "stream"
    }
   ],
   "source": [
    "def div4(a, b):\n",
    "    try:\n",
    "        c = a/b\n",
    "        print(c)\n",
    "    except:\n",
    "        print(\"Error\")\n",
    "\n",
    "div4(4, 2)\n",
    "div4(4, 0)\n",
    "div4(4, \"0\")"
   ],
   "metadata": {
    "collapsed": false,
    "pycharm": {
     "name": "#%%\n",
     "is_executing": false
    }
   }
  },
  {
   "cell_type": "code",
   "execution_count": 9,
   "outputs": [
    {
     "name": "stdout",
     "text": [
      "2.0\n",
      "a is 4, b is 2\n",
      "Error\n",
      "a is 4, b is 0\n",
      "Error\n",
      "a is 4, b is 0\n"
     ],
     "output_type": "stream"
    }
   ],
   "source": [
    "def div5(a, b):\n",
    "    try:\n",
    "        c = a/b\n",
    "        print(c)\n",
    "    except:\n",
    "        print(\"Error\")\n",
    "    finally:\n",
    "        print(\"a is {}, b is {}\".format(a, b))\n",
    "\n",
    "div5(4, 2)\n",
    "div5(4, 0)\n",
    "div5(4, \"0\")\n",
    "\n"
   ],
   "metadata": {
    "collapsed": false,
    "pycharm": {
     "name": "#%%\n",
     "is_executing": false
    }
   }
  },
  {
   "cell_type": "code",
   "execution_count": 16,
   "outputs": [
    {
     "traceback": [
      "\u001b[0;31m---------------------------------------------------------------------------\u001b[0m",
      "\u001b[0;31mMyInputError\u001b[0m                              Traceback (most recent call last)",
      "\u001b[0;32m<ipython-input-16-8035a0211684>\u001b[0m in \u001b[0;36m<module>\u001b[0;34m\u001b[0m\n\u001b[1;32m     17\u001b[0m         \u001b[0mprint\u001b[0m\u001b[0;34m(\u001b[0m\u001b[0;34m\"a is {}, b is {}\"\u001b[0m\u001b[0;34m.\u001b[0m\u001b[0mformat\u001b[0m\u001b[0;34m(\u001b[0m\u001b[0ma\u001b[0m\u001b[0;34m,\u001b[0m \u001b[0mb\u001b[0m\u001b[0;34m)\u001b[0m\u001b[0;34m)\u001b[0m\u001b[0;34m\u001b[0m\u001b[0;34m\u001b[0m\u001b[0m\n\u001b[1;32m     18\u001b[0m \u001b[0;34m\u001b[0m\u001b[0m\n\u001b[0;32m---> 19\u001b[0;31m \u001b[0mdiv6\u001b[0m\u001b[0;34m(\u001b[0m\u001b[0;36m4\u001b[0m\u001b[0;34m,\u001b[0m \u001b[0;34m\"2\"\u001b[0m\u001b[0;34m)\u001b[0m\u001b[0;34m\u001b[0m\u001b[0;34m\u001b[0m\u001b[0m\n\u001b[0m\u001b[1;32m     20\u001b[0m \u001b[0mdiv6\u001b[0m\u001b[0;34m(\u001b[0m\u001b[0;34m\"4\"\u001b[0m\u001b[0;34m,\u001b[0m \u001b[0;36m2\u001b[0m\u001b[0;34m)\u001b[0m\u001b[0;34m\u001b[0m\u001b[0;34m\u001b[0m\u001b[0m\n\u001b[1;32m     21\u001b[0m \u001b[0;34m\u001b[0m\u001b[0m\n",
      "\u001b[0;32m<ipython-input-16-8035a0211684>\u001b[0m in \u001b[0;36mdiv6\u001b[0;34m(a, b)\u001b[0m\n\u001b[1;32m      9\u001b[0m         \u001b[0;32mraise\u001b[0m \u001b[0mMyInputError\u001b[0m\u001b[0;34m(\u001b[0m\u001b[0ma\u001b[0m\u001b[0;34m)\u001b[0m\u001b[0;34m\u001b[0m\u001b[0;34m\u001b[0m\u001b[0m\n\u001b[1;32m     10\u001b[0m     \u001b[0;32mif\u001b[0m \u001b[0mtype\u001b[0m\u001b[0;34m(\u001b[0m\u001b[0mb\u001b[0m\u001b[0;34m)\u001b[0m \u001b[0;34m!=\u001b[0m \u001b[0mint\u001b[0m\u001b[0;34m:\u001b[0m\u001b[0;34m\u001b[0m\u001b[0;34m\u001b[0m\u001b[0m\n\u001b[0;32m---> 11\u001b[0;31m         \u001b[0;32mraise\u001b[0m \u001b[0mMyInputError\u001b[0m\u001b[0;34m(\u001b[0m\u001b[0mb\u001b[0m\u001b[0;34m)\u001b[0m\u001b[0;34m\u001b[0m\u001b[0;34m\u001b[0m\u001b[0m\n\u001b[0m\u001b[1;32m     12\u001b[0m     \u001b[0;32mtry\u001b[0m\u001b[0;34m:\u001b[0m\u001b[0;34m\u001b[0m\u001b[0;34m\u001b[0m\u001b[0m\n\u001b[1;32m     13\u001b[0m         \u001b[0;32mraise\u001b[0m \u001b[0mMyInputError\u001b[0m\u001b[0;34m(\u001b[0m\u001b[0ma\u001b[0m\u001b[0;34m)\u001b[0m\u001b[0;34m\u001b[0m\u001b[0;34m\u001b[0m\u001b[0m\n",
      "\u001b[0;31mMyInputError\u001b[0m: '2' is invalid input."
     ],
     "ename": "MyInputError",
     "evalue": "'2' is invalid input.",
     "output_type": "error"
    }
   ],
   "source": [
    "class MyInputError(Exception):\n",
    "    def __init__(self, value):\n",
    "        self.value = value\n",
    "    def __str__(self):\n",
    "        return \"{} is invalid input.\".format(repr(self.value))\n",
    "\n",
    "def div6(a, b):\n",
    "    if type(a) != int:\n",
    "        raise MyInputError(a)\n",
    "    if type(b) != int:\n",
    "        raise MyInputError(b)\n",
    "    try:\n",
    "        raise MyInputError(a)\n",
    "    except MyInputError as err:\n",
    "        print(\"Error:\", err)\n",
    "    finally:\n",
    "        print(\"a is {}, b is {}\".format(a, b))\n",
    "\n",
    "div6(4, \"2\")\n",
    "\n"
   ],
   "metadata": {
    "collapsed": false,
    "pycharm": {
     "name": "#%%\n",
     "is_executing": false
    }
   }
  }
 ],
 "metadata": {
  "kernelspec": {
   "display_name": "Python 3",
   "language": "python",
   "name": "python3"
  },
  "language_info": {
   "codemirror_mode": {
    "name": "ipython",
    "version": 2
   },
   "file_extension": ".py",
   "mimetype": "text/x-python",
   "name": "python",
   "nbconvert_exporter": "python",
   "pygments_lexer": "ipython2",
   "version": "2.7.6"
  },
  "pycharm": {
   "stem_cell": {
    "cell_type": "raw",
    "source": [],
    "metadata": {
     "collapsed": false
    }
   }
  }
 },
 "nbformat": 4,
 "nbformat_minor": 0
}